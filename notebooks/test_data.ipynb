{
 "cells": [
  {
   "cell_type": "code",
   "execution_count": 158,
   "id": "a0804f5f",
   "metadata": {},
   "outputs": [],
   "source": [
    "from data import load_sheet, get_prices_for_last_date, get_product_price_history\n",
    "\n",
    "# from data import load_sheet, get_prices_for_last_date, get_product_price_history\n",
    "PRICES_DF, PRODUCTS, PRODUCT_CHOICE = load_sheet()"
   ]
  },
  {
   "cell_type": "code",
   "execution_count": null,
   "id": "cf558793",
   "metadata": {},
   "outputs": [],
   "source": []
  },
  {
   "cell_type": "code",
   "execution_count": 192,
   "id": "6d249560",
   "metadata": {},
   "outputs": [],
   "source": [
    "n_weeks = len(PRICES_DF['date'].unique())\n",
    "\n",
    "indexed_prices_df = PRICES_DF.set_index(['date', 'product'])\n",
    "indexed_prices_df['price_first_week'] = indexed_prices_df.groupby(level=\"product\").shift(n_weeks-1)['price']\n",
    "indexed_prices_df['dif_first_week'] = indexed_prices_df['price'] - indexed_prices_df['price_first_week']\n",
    "indexed_prices_df = indexed_prices_df.reset_index().set_index('date')\n",
    "\n",
    "first_week = indexed_prices_df.last('1D')[lambda df: df['dif_first_week'] != 0].sort_values('dif_first_week')\n",
    "first_week = first_week.reset_index()[['product', 'dif_first_week', 'price']].set_index('product')\n"
   ]
  },
  {
   "cell_type": "code",
   "execution_count": 203,
   "id": "9bdf8d9e",
   "metadata": {},
   "outputs": [],
   "source": [
    "e_rocket = \"\\U0001f680\"\n",
    "e_money = \"\\U0001f4b8\"\n",
    "e_rise = \"\\U0001F4C8\"\n",
    "e_fall = \"\\U0001F4C9\"\n",
    "e_egg = \"\\U0001F95A\"\n",
    "# print(\"\\U0001F4C9\")\n",
    "# print(\"\\U0001F95A\")\n",
    "# 1F4C8 1F4C9 1F95A\n"
   ]
  },
  {
   "cell_type": "code",
   "execution_count": 190,
   "id": "01d1d420",
   "metadata": {},
   "outputs": [],
   "source": [
    "formatter = lambda x: f'{x[0]}--{e_money}{x[2]:.0f}({e_rise}{x[1]:.1f})'\n",
    "first_week_formatted = first_week.reset_index().values.tolist()\n",
    "first_week_formatted = [formatter(x) for x in first_week_formatted]"
   ]
  },
  {
   "cell_type": "code",
   "execution_count": 215,
   "id": "98cabae3",
   "metadata": {},
   "outputs": [
    {
     "name": "stdout",
     "output_type": "stream",
     "text": [
      "1\n",
      "2\n",
      "3\n"
     ]
    }
   ],
   "source": [
    "print('\\n'.join(['1', '2', '3']))"
   ]
  },
  {
   "cell_type": "code",
   "execution_count": 210,
   "id": "d7bd81f6",
   "metadata": {},
   "outputs": [
    {
     "ename": "AttributeError",
     "evalue": "'str' object has no attribute 'copy'",
     "output_type": "error",
     "traceback": [
      "\u001b[0;31m---------------------------------------------------------------------------\u001b[0m",
      "\u001b[0;31mAttributeError\u001b[0m                            Traceback (most recent call last)",
      "\u001b[0;32m/var/folders/0p/s5_wd55j435dtwyt0wmv274w0000gn/T/ipykernel_21747/635088163.py\u001b[0m in \u001b[0;36m<module>\u001b[0;34m\u001b[0m\n\u001b[1;32m      2\u001b[0m \u001b[0;31m# [1,2,3] + [4,5]\u001b[0m\u001b[0;34m\u001b[0m\u001b[0;34m\u001b[0m\u001b[0;34m\u001b[0m\u001b[0m\n\u001b[1;32m      3\u001b[0m \u001b[0ma\u001b[0m \u001b[0;34m=\u001b[0m \u001b[0;34m'123'\u001b[0m\u001b[0;34m\u001b[0m\u001b[0;34m\u001b[0m\u001b[0m\n\u001b[0;32m----> 4\u001b[0;31m \u001b[0mb\u001b[0m \u001b[0;34m=\u001b[0m \u001b[0ma\u001b[0m\u001b[0;34m.\u001b[0m\u001b[0mcopy\u001b[0m\u001b[0;34m(\u001b[0m\u001b[0;34m)\u001b[0m\u001b[0;34m\u001b[0m\u001b[0;34m\u001b[0m\u001b[0m\n\u001b[0m",
      "\u001b[0;31mAttributeError\u001b[0m: 'str' object has no attribute 'copy'"
     ]
    }
   ],
   "source": [
    "# '🥚'.encode('utf-8')#.decode('utf-8')\n",
    "# [1,2,3] + [4,5]\n",
    "a = '123'\n",
    "b = a.copy()"
   ]
  },
  {
   "cell_type": "code",
   "execution_count": 205,
   "id": "faff51be",
   "metadata": {},
   "outputs": [
    {
     "name": "stdout",
     "output_type": "stream",
     "text": [
      "🥚\n",
      "🥚\n"
     ]
    },
    {
     "data": {
      "text/plain": [
       "True"
      ]
     },
     "execution_count": 205,
     "metadata": {},
     "output_type": "execute_result"
    }
   ],
   "source": [
    "# print('\\U🥚')/\n",
    "a = b'\\xf0\\x9f\\xa5\\x9a'\n",
    "a = a.decode('utf-8')\n",
    "print(a)\n",
    "type(a)\n",
    "print(e_egg)\n",
    "a == e_egg"
   ]
  },
  {
   "cell_type": "code",
   "execution_count": 191,
   "id": "4c5794e7",
   "metadata": {},
   "outputs": [
    {
     "data": {
      "text/plain": [
       "['Помидоры--💸165(📈-68.0)',\n",
       " 'Чеснок--💸276(📈-48.0)',\n",
       " 'Огурцы--💸99(📈-35.0)',\n",
       " 'Растительное масло--💸154(📈-18.0)',\n",
       " 'Тыква--💸17(📈-16.0)',\n",
       " 'Творог--💸96(📈-12.0)',\n",
       " 'Лук--💸40(📈-1.0)',\n",
       " 'Яблоки--💸92(📈2.0)',\n",
       " 'Курица--💸328(📈16.0)',\n",
       " 'Горох--💸99(📈30.0)',\n",
       " 'Чай--💸133(📈34.0)']"
      ]
     },
     "execution_count": 191,
     "metadata": {},
     "output_type": "execute_result"
    }
   ],
   "source": [
    "first_week_formatted"
   ]
  },
  {
   "cell_type": "code",
   "execution_count": 131,
   "id": "74746043",
   "metadata": {},
   "outputs": [],
   "source": [
    "last_day_prices = (\n",
    "        PRICES_DF.groupby(['date', 'product'])['price'].mean()\n",
    "        .to_frame().reset_index().set_index('date').groupby(['product']).last('1D')\n",
    "        .sort_values('product')\n",
    "    )\n",
    "\n",
    "last_day_prices = last_day_prices.reset_index()\n",
    "last_day_prices['product'] = last_day_prices['product'].str.encode('utf-8')\n",
    "last_day_prices['product'] = last_day_prices['product'].apply(lambda x: x.decode('utf-8', 'ignore'))\n",
    "\n",
    "df_to_print = last_day_prices.values.tolist()\n",
    "df_to_print = [[x[0], x[1]] for x in df_to_print] #.encode('cp1251')\n",
    "# df_to_print\n"
   ]
  },
  {
   "cell_type": "code",
   "execution_count": 161,
   "id": "29a896a6",
   "metadata": {},
   "outputs": [
    {
     "data": {
      "text/plain": [
       "['Бананы--139.0',\n",
       " 'Баранина--474.0',\n",
       " 'Говядина--495.0',\n",
       " 'Горох--99.0',\n",
       " 'Гречка--125.0',\n",
       " 'Капуста--72.0',\n",
       " 'Картофель--44.0',\n",
       " 'Кефир--58.0',\n",
       " 'Крупа манная--69.0',\n",
       " 'Курица--328.0',\n",
       " 'Лепешка--24.0',\n",
       " 'Лук--40.0',\n",
       " 'Молоко--58.0',\n",
       " 'Морковь--53.0',\n",
       " 'Огурцы--99.0',\n",
       " 'Помидоры--165.0',\n",
       " 'Растительное масло--154.0',\n",
       " 'Рис--65.0',\n",
       " 'Рыба--579.0',\n",
       " 'Сахар--78.0',\n",
       " 'Сливочное масло--101.0',\n",
       " 'Соль--8.0',\n",
       " 'Творог--96.0',\n",
       " 'Тыква--17.0',\n",
       " 'Хлеб--17.0',\n",
       " 'Чай--133.0',\n",
       " 'Чеснок--276.0',\n",
       " 'Яблоки--92.0',\n",
       " 'Яйца--105.0']"
      ]
     },
     "execution_count": 161,
     "metadata": {},
     "output_type": "execute_result"
    }
   ],
   "source": [
    "[f'{x[0]}--{x[1]}' for x in last_day_prices.values.tolist()]\n"
   ]
  },
  {
   "cell_type": "code",
   "execution_count": 78,
   "id": "e2e1e8be",
   "metadata": {},
   "outputs": [],
   "source": [
    "# !python3 -m pip install -U prettytable"
   ]
  },
  {
   "cell_type": "code",
   "execution_count": 146,
   "id": "0823cd3f",
   "metadata": {},
   "outputs": [],
   "source": [
    "import prettytable as pt\n",
    "\n",
    "table = pt.PrettyTable(['Product', 'Price'])\n",
    "table.align['Product'] = 'l'\n",
    "table.align['Price'] = 'r'\n",
    "# table.align['Change'] = 'r'\n",
    "\n",
    "inputs = [\n",
    "    ('ABC', 20.85, 1.626),\n",
    "    ('DEF', 78.95, 0.099),\n",
    "    ('GHI', 23.45, 0.192),\n",
    "    ('JKL', 98.85, 0.292),\n",
    "]\n",
    "inputs = df_to_print\n",
    "\n",
    "for symbol, price in inputs:\n",
    "    table.add_row([symbol, f'{price:.1f}c'])\n",
    "\n"
   ]
  },
  {
   "cell_type": "code",
   "execution_count": 157,
   "id": "c4afba20",
   "metadata": {},
   "outputs": [
    {
     "name": "stdout",
     "output_type": "stream",
     "text": [
      "|--------------------+--------|\n",
      "| Product            |  Price |\n",
      "|--------------------+--------|\n",
      "| Бананы             | 139.0c |\n",
      "| Баранина           | 474.0c |\n",
      "| Говядина           | 495.0c |\n",
      "| Горох              |  99.0c |\n",
      "| Гречка             | 125.0c |\n",
      "| Капуста            |  72.0c |\n",
      "| Картофель          |  44.0c |\n",
      "| Кефир              |  58.0c |\n",
      "| Крупа манная       |  69.0c |\n",
      "| Курица             | 328.0c |\n",
      "| Лепешка            |  24.0c |\n",
      "| Лук                |  40.0c |\n",
      "| Молоко             |  58.0c |\n",
      "| Морковь            |  53.0c |\n",
      "| Огурцы             |  99.0c |\n",
      "| Помидоры           | 165.0c |\n",
      "| Растительное масло | 154.0c |\n",
      "| Рис                |  65.0c |\n",
      "| Рыба               | 579.0c |\n",
      "| Сахар              |  78.0c |\n",
      "| Сливочное масло    | 101.0c |\n",
      "| Соль               |   8.0c |\n",
      "| Творог             |  96.0c |\n",
      "| Тыква              |  17.0c |\n",
      "| Хлеб               |  17.0c |\n",
      "| Чай                | 133.0c |\n",
      "| Чеснок             | 276.0c |\n",
      "| Яблоки             |  92.0c |\n",
      "| Яйца               | 105.0c |\n",
      "|--------------------+--------|\n"
     ]
    }
   ],
   "source": [
    "from prettytable import DEFAULT, MSWORD_FRIENDLY, MARKDOWN, ORGMODE, PLAIN_COLUMNS, SINGLE_BORDER\n",
    "#\n",
    "\n",
    "# table_style = table.set_style(MSWORD_FRIENDLY)\n",
    "table.set_style(DEFAULT)\n",
    "print(table.get_string())"
   ]
  },
  {
   "cell_type": "code",
   "execution_count": 100,
   "id": "2d7d51ce",
   "metadata": {},
   "outputs": [],
   "source": [
    "# df_to_print"
   ]
  },
  {
   "cell_type": "code",
   "execution_count": 119,
   "id": "539653aa",
   "metadata": {},
   "outputs": [],
   "source": [
    "import functools, pprint\n",
    "def escape(s):\n",
    "    lead = \"\"\n",
    "    if isinstance(s, unicode):\n",
    "        s = s.encode(\"utf-8\")\n",
    "        lead = \"u\"\n",
    "    return \"%s\\\"%s\\\"\" % (lead, s.replace(\"\\\\\", \"\\\\\\\\\").replace(\"\\\"\", \"\\\\\\\"\"))\n",
    "\n",
    "def patched(f):\n",
    "    if hasattr(f, \"_already_patched\"):\n",
    "        return f\n",
    "\n",
    "    @functools.wraps(f)\n",
    "    def sub(object, *args, **kwargs):\n",
    "        try:\n",
    "            if isinstance(object, basestring):\n",
    "                return escape(object), True, False\n",
    "        except Exception:\n",
    "            pass\n",
    "        return f(object, *args, **kwargs)\n",
    "\n",
    "    sub._already_patched = True\n",
    "    return sub\n",
    "\n",
    "pprint._safe_repr = patched(pprint._safe_repr)\n"
   ]
  },
  {
   "cell_type": "code",
   "execution_count": 113,
   "id": "d46dccc5",
   "metadata": {},
   "outputs": [
    {
     "name": "stdout",
     "output_type": "stream",
     "text": [
      "b'\\xd0\\x91\\xd0\\xb0\\xd0\\xbd\\xd0\\xb0\\xd0\\xbd\\xd1\\x8b'\n"
     ]
    }
   ],
   "source": [
    "pprint.pprint(df_to_print[0][0].decode())"
   ]
  },
  {
   "cell_type": "code",
   "execution_count": 107,
   "id": "687f68c2",
   "metadata": {},
   "outputs": [
    {
     "name": "stdout",
     "output_type": "stream",
     "text": [
      "+----------------------------------------------------------------------------------------------------------------------------------------------+--------+\n",
      "|                                                                   Product                                                                    |  Price |\n",
      "+----------------------------------------------------------------------------------------------------------------------------------------------+--------+\n",
      "|                                             b'\\xd0\\x91\\xd0\\xb0\\xd0\\xbd\\xd0\\xb0\\xd0\\xbd\\xd1\\x8b'                                              | 139.00 |\n",
      "|                                     b'\\xd0\\x91\\xd0\\xb0\\xd1\\x80\\xd0\\xb0\\xd0\\xbd\\xd0\\xb8\\xd0\\xbd\\xd0\\xb0'                                      | 474.00 |\n",
      "|                                     b'\\xd0\\x93\\xd0\\xbe\\xd0\\xb2\\xd1\\x8f\\xd0\\xb4\\xd0\\xb8\\xd0\\xbd\\xd0\\xb0'                                      | 495.00 |\n",
      "|                                                 b'\\xd0\\x93\\xd0\\xbe\\xd1\\x80\\xd0\\xbe\\xd1\\x85'                                                  |  99.00 |\n",
      "|                                             b'\\xd0\\x93\\xd1\\x80\\xd0\\xb5\\xd1\\x87\\xd0\\xba\\xd0\\xb0'                                              | 125.00 |\n",
      "|                                         b'\\xd0\\x9a\\xd0\\xb0\\xd0\\xbf\\xd1\\x83\\xd1\\x81\\xd1\\x82\\xd0\\xb0'                                          |  72.00 |\n",
      "|                                 b'\\xd0\\x9a\\xd0\\xb0\\xd1\\x80\\xd1\\x82\\xd0\\xbe\\xd1\\x84\\xd0\\xb5\\xd0\\xbb\\xd1\\x8c'                                  |  44.00 |\n",
      "|                                                 b'\\xd0\\x9a\\xd0\\xb5\\xd1\\x84\\xd0\\xb8\\xd1\\x80'                                                  |  58.00 |\n",
      "|                         b'\\xd0\\x9a\\xd1\\x80\\xd1\\x83\\xd0\\xbf\\xd0\\xb0 \\xd0\\xbc\\xd0\\xb0\\xd0\\xbd\\xd0\\xbd\\xd0\\xb0\\xd1\\x8f'                         |  69.00 |\n",
      "|                                             b'\\xd0\\x9a\\xd1\\x83\\xd1\\x80\\xd0\\xb8\\xd1\\x86\\xd0\\xb0'                                              | 328.00 |\n",
      "|                                         b'\\xd0\\x9b\\xd0\\xb5\\xd0\\xbf\\xd0\\xb5\\xd1\\x88\\xd0\\xba\\xd0\\xb0'                                          |  24.00 |\n",
      "|                                                         b'\\xd0\\x9b\\xd1\\x83\\xd0\\xba'                                                          |  40.00 |\n",
      "|                                             b'\\xd0\\x9c\\xd0\\xbe\\xd0\\xbb\\xd0\\xbe\\xd0\\xba\\xd0\\xbe'                                              |  58.00 |\n",
      "|                                         b'\\xd0\\x9c\\xd0\\xbe\\xd1\\x80\\xd0\\xba\\xd0\\xbe\\xd0\\xb2\\xd1\\x8c'                                          |  53.00 |\n",
      "|                                             b'\\xd0\\x9e\\xd0\\xb3\\xd1\\x83\\xd1\\x80\\xd1\\x86\\xd1\\x8b'                                              |  99.00 |\n",
      "|                                     b'\\xd0\\x9f\\xd0\\xbe\\xd0\\xbc\\xd0\\xb8\\xd0\\xb4\\xd0\\xbe\\xd1\\x80\\xd1\\x8b'                                      | 165.00 |\n",
      "| b'\\xd0\\xa0\\xd0\\xb0\\xd1\\x81\\xd1\\x82\\xd0\\xb8\\xd1\\x82\\xd0\\xb5\\xd0\\xbb\\xd1\\x8c\\xd0\\xbd\\xd0\\xbe\\xd0\\xb5 \\xd0\\xbc\\xd0\\xb0\\xd1\\x81\\xd0\\xbb\\xd0\\xbe' | 154.00 |\n",
      "|                                                         b'\\xd0\\xa0\\xd0\\xb8\\xd1\\x81'                                                          |  65.00 |\n",
      "|                                                     b'\\xd0\\xa0\\xd1\\x8b\\xd0\\xb1\\xd0\\xb0'                                                      | 579.00 |\n",
      "|                                                 b'\\xd0\\xa1\\xd0\\xb0\\xd1\\x85\\xd0\\xb0\\xd1\\x80'                                                  |  78.00 |\n",
      "|             b'\\xd0\\xa1\\xd0\\xbb\\xd0\\xb8\\xd0\\xb2\\xd0\\xbe\\xd1\\x87\\xd0\\xbd\\xd0\\xbe\\xd0\\xb5 \\xd0\\xbc\\xd0\\xb0\\xd1\\x81\\xd0\\xbb\\xd0\\xbe'             | 101.00 |\n",
      "|                                                     b'\\xd0\\xa1\\xd0\\xbe\\xd0\\xbb\\xd1\\x8c'                                                      |   8.00 |\n",
      "|                                             b'\\xd0\\xa2\\xd0\\xb2\\xd0\\xbe\\xd1\\x80\\xd0\\xbe\\xd0\\xb3'                                              |  96.00 |\n",
      "|                                                 b'\\xd0\\xa2\\xd1\\x8b\\xd0\\xba\\xd0\\xb2\\xd0\\xb0'                                                  |  17.00 |\n",
      "|                                                     b'\\xd0\\xa5\\xd0\\xbb\\xd0\\xb5\\xd0\\xb1'                                                      |  17.00 |\n",
      "|                                                         b'\\xd0\\xa7\\xd0\\xb0\\xd0\\xb9'                                                          | 133.00 |\n",
      "|                                             b'\\xd0\\xa7\\xd0\\xb5\\xd1\\x81\\xd0\\xbd\\xd0\\xbe\\xd0\\xba'                                              | 276.00 |\n",
      "|                                             b'\\xd0\\xaf\\xd0\\xb1\\xd0\\xbb\\xd0\\xbe\\xd0\\xba\\xd0\\xb8'                                              |  92.00 |\n",
      "|                                                     b'\\xd0\\xaf\\xd0\\xb9\\xd1\\x86\\xd0\\xb0'                                                      | 105.00 |\n",
      "+----------------------------------------------------------------------------------------------------------------------------------------------+--------+\n"
     ]
    }
   ],
   "source": [
    "\n",
    "dir(table)\n",
    "# table.get_html_string()\n",
    "print(table.get_string())"
   ]
  },
  {
   "cell_type": "code",
   "execution_count": 118,
   "id": "ca82d11c",
   "metadata": {},
   "outputs": [
    {
     "data": {
      "text/plain": [
       "'utf-8'"
      ]
     },
     "execution_count": 118,
     "metadata": {},
     "output_type": "execute_result"
    }
   ],
   "source": [
    "# last_day_prices.to_html()\n",
    "import sys\n",
    "sys.getdefaultencoding()\n"
   ]
  },
  {
   "cell_type": "code",
   "execution_count": 26,
   "id": "97653c16",
   "metadata": {},
   "outputs": [],
   "source": [
    "# get_prices_for_last_date(PRICES_DF)"
   ]
  },
  {
   "cell_type": "code",
   "execution_count": 129,
   "id": "9674c949",
   "metadata": {},
   "outputs": [
    {
     "name": "stdout",
     "output_type": "stream",
     "text": [
      "[[139.0], [474.0], [495.0], [99.0], [125.0], [72.0], [44.0], [58.0], [69.0], [328.0], [24.0], [40.0], [58.0], [53.0], [99.0], [165.0], [154.0], [65.0], [579.0], [78.0], [101.0], [8.0], [96.0], [17.0], [17.0], [133.0], [276.0], [92.0], [105.0]]\n"
     ]
    },
    {
     "ename": "IndexError",
     "evalue": "list index out of range",
     "output_type": "error",
     "traceback": [
      "\u001b[0;31m---------------------------------------------------------------------------\u001b[0m",
      "\u001b[0;31mIndexError\u001b[0m                                Traceback (most recent call last)",
      "\u001b[0;32m/var/folders/0p/s5_wd55j435dtwyt0wmv274w0000gn/T/ipykernel_21747/3569701838.py\u001b[0m in \u001b[0;36m<module>\u001b[0;34m\u001b[0m\n\u001b[1;32m      1\u001b[0m \u001b[0mdf_to_print\u001b[0m \u001b[0;34m=\u001b[0m \u001b[0mlast_day_prices\u001b[0m\u001b[0;34m.\u001b[0m\u001b[0mvalues\u001b[0m\u001b[0;34m.\u001b[0m\u001b[0mtolist\u001b[0m\u001b[0;34m(\u001b[0m\u001b[0;34m)\u001b[0m\u001b[0;34m\u001b[0m\u001b[0;34m\u001b[0m\u001b[0m\n\u001b[1;32m      2\u001b[0m \u001b[0mprint\u001b[0m\u001b[0;34m(\u001b[0m\u001b[0mdf_to_print\u001b[0m\u001b[0;34m)\u001b[0m\u001b[0;34m\u001b[0m\u001b[0;34m\u001b[0m\u001b[0m\n\u001b[0;32m----> 3\u001b[0;31m \u001b[0mdf_to_print\u001b[0m \u001b[0;34m=\u001b[0m \u001b[0;34m[\u001b[0m\u001b[0;34m[\u001b[0m\u001b[0mx\u001b[0m\u001b[0;34m[\u001b[0m\u001b[0;36m0\u001b[0m\u001b[0;34m]\u001b[0m\u001b[0;34m,\u001b[0m \u001b[0mx\u001b[0m\u001b[0;34m[\u001b[0m\u001b[0;36m1\u001b[0m\u001b[0;34m]\u001b[0m\u001b[0;34m]\u001b[0m \u001b[0;32mfor\u001b[0m \u001b[0mx\u001b[0m \u001b[0;32min\u001b[0m \u001b[0mdf_to_print\u001b[0m\u001b[0;34m]\u001b[0m \u001b[0;31m#.encode('cp1251')\u001b[0m\u001b[0;34m\u001b[0m\u001b[0;34m\u001b[0m\u001b[0m\n\u001b[0m\u001b[1;32m      4\u001b[0m \u001b[0mdf_to_print\u001b[0m\u001b[0;34m\u001b[0m\u001b[0;34m\u001b[0m\u001b[0m\n\u001b[1;32m      5\u001b[0m \u001b[0;31m# print(tabulate(df_to_print))\u001b[0m\u001b[0;34m\u001b[0m\u001b[0;34m\u001b[0m\u001b[0;34m\u001b[0m\u001b[0m\n",
      "\u001b[0;32m/var/folders/0p/s5_wd55j435dtwyt0wmv274w0000gn/T/ipykernel_21747/3569701838.py\u001b[0m in \u001b[0;36m<listcomp>\u001b[0;34m(.0)\u001b[0m\n\u001b[1;32m      1\u001b[0m \u001b[0mdf_to_print\u001b[0m \u001b[0;34m=\u001b[0m \u001b[0mlast_day_prices\u001b[0m\u001b[0;34m.\u001b[0m\u001b[0mvalues\u001b[0m\u001b[0;34m.\u001b[0m\u001b[0mtolist\u001b[0m\u001b[0;34m(\u001b[0m\u001b[0;34m)\u001b[0m\u001b[0;34m\u001b[0m\u001b[0;34m\u001b[0m\u001b[0m\n\u001b[1;32m      2\u001b[0m \u001b[0mprint\u001b[0m\u001b[0;34m(\u001b[0m\u001b[0mdf_to_print\u001b[0m\u001b[0;34m)\u001b[0m\u001b[0;34m\u001b[0m\u001b[0;34m\u001b[0m\u001b[0m\n\u001b[0;32m----> 3\u001b[0;31m \u001b[0mdf_to_print\u001b[0m \u001b[0;34m=\u001b[0m \u001b[0;34m[\u001b[0m\u001b[0;34m[\u001b[0m\u001b[0mx\u001b[0m\u001b[0;34m[\u001b[0m\u001b[0;36m0\u001b[0m\u001b[0;34m]\u001b[0m\u001b[0;34m,\u001b[0m \u001b[0mx\u001b[0m\u001b[0;34m[\u001b[0m\u001b[0;36m1\u001b[0m\u001b[0;34m]\u001b[0m\u001b[0;34m]\u001b[0m \u001b[0;32mfor\u001b[0m \u001b[0mx\u001b[0m \u001b[0;32min\u001b[0m \u001b[0mdf_to_print\u001b[0m\u001b[0;34m]\u001b[0m \u001b[0;31m#.encode('cp1251')\u001b[0m\u001b[0;34m\u001b[0m\u001b[0;34m\u001b[0m\u001b[0m\n\u001b[0m\u001b[1;32m      4\u001b[0m \u001b[0mdf_to_print\u001b[0m\u001b[0;34m\u001b[0m\u001b[0;34m\u001b[0m\u001b[0m\n\u001b[1;32m      5\u001b[0m \u001b[0;31m# print(tabulate(df_to_print))\u001b[0m\u001b[0;34m\u001b[0m\u001b[0;34m\u001b[0m\u001b[0;34m\u001b[0m\u001b[0m\n",
      "\u001b[0;31mIndexError\u001b[0m: list index out of range"
     ]
    }
   ],
   "source": [
    "df_to_print = last_day_prices.values.tolist()\n",
    "df_to_print = [[x[0], x[1]] for x in df_to_print] #.encode('cp1251')\n",
    "df_to_print\n",
    "# print(tabulate(df_to_print))"
   ]
  },
  {
   "cell_type": "code",
   "execution_count": 117,
   "id": "3121e5a8",
   "metadata": {},
   "outputs": [
    {
     "data": {
      "text/plain": [
       "0                           b'\\xc1\\xe0\\xed\\xe0\\xed\\xfb'\n",
       "1                   b'\\xc1\\xe0\\xf0\\xe0\\xed\\xe8\\xed\\xe0'\n",
       "2                   b'\\xc3\\xee\\xe2\\xff\\xe4\\xe8\\xed\\xe0'\n",
       "3                               b'\\xc3\\xee\\xf0\\xee\\xf5'\n",
       "4                           b'\\xc3\\xf0\\xe5\\xf7\\xea\\xe0'\n",
       "5                       b'\\xca\\xe0\\xef\\xf3\\xf1\\xf2\\xe0'\n",
       "6               b'\\xca\\xe0\\xf0\\xf2\\xee\\xf4\\xe5\\xeb\\xfc'\n",
       "7                               b'\\xca\\xe5\\xf4\\xe8\\xf0'\n",
       "8      b'\\xca\\xf0\\xf3\\xef\\xe0 \\xec\\xe0\\xed\\xed\\xe0\\xff'\n",
       "9                           b'\\xca\\xf3\\xf0\\xe8\\xf6\\xe0'\n",
       "10                      b'\\xcb\\xe5\\xef\\xe5\\xf8\\xea\\xe0'\n",
       "11                                      b'\\xcb\\xf3\\xea'\n",
       "12                          b'\\xcc\\xee\\xeb\\xee\\xea\\xee'\n",
       "13                      b'\\xcc\\xee\\xf0\\xea\\xee\\xe2\\xfc'\n",
       "14                          b'\\xce\\xe3\\xf3\\xf0\\xf6\\xfb'\n",
       "15                  b'\\xcf\\xee\\xec\\xe8\\xe4\\xee\\xf0\\xfb'\n",
       "16    b'\\xd0\\xe0\\xf1\\xf2\\xe8\\xf2\\xe5\\xeb\\xfc\\xed\\xee...\n",
       "17                                      b'\\xd0\\xe8\\xf1'\n",
       "18                                  b'\\xd0\\xfb\\xe1\\xe0'\n",
       "19                              b'\\xd1\\xe0\\xf5\\xe0\\xf0'\n",
       "20    b'\\xd1\\xeb\\xe8\\xe2\\xee\\xf7\\xed\\xee\\xe5 \\xec\\xe...\n",
       "21                                  b'\\xd1\\xee\\xeb\\xfc'\n",
       "22                          b'\\xd2\\xe2\\xee\\xf0\\xee\\xe3'\n",
       "23                              b'\\xd2\\xfb\\xea\\xe2\\xe0'\n",
       "24                                  b'\\xd5\\xeb\\xe5\\xe1'\n",
       "25                                      b'\\xd7\\xe0\\xe9'\n",
       "26                          b'\\xd7\\xe5\\xf1\\xed\\xee\\xea'\n",
       "27                          b'\\xdf\\xe1\\xeb\\xee\\xea\\xe8'\n",
       "28                                  b'\\xdf\\xe9\\xf6\\xe0'\n",
       "Name: product, dtype: object"
      ]
     },
     "execution_count": 117,
     "metadata": {},
     "output_type": "execute_result"
    }
   ],
   "source": [
    "# UTF-16 cp1251\n",
    "last_day_prices['product'].str.encode('cp1251')"
   ]
  },
  {
   "cell_type": "code",
   "execution_count": null,
   "id": "30f9c458",
   "metadata": {},
   "outputs": [],
   "source": []
  },
  {
   "cell_type": "code",
   "execution_count": 59,
   "id": "cda4a45d",
   "metadata": {},
   "outputs": [
    {
     "data": {
      "text/html": [
       "<div>\n",
       "<style scoped>\n",
       "    .dataframe tbody tr th:only-of-type {\n",
       "        vertical-align: middle;\n",
       "    }\n",
       "\n",
       "    .dataframe tbody tr th {\n",
       "        vertical-align: top;\n",
       "    }\n",
       "\n",
       "    .dataframe thead th {\n",
       "        text-align: right;\n",
       "    }\n",
       "</style>\n",
       "<table border=\"1\" class=\"dataframe\">\n",
       "  <thead>\n",
       "    <tr style=\"text-align: right;\">\n",
       "      <th></th>\n",
       "      <th>product</th>\n",
       "      <th>price</th>\n",
       "    </tr>\n",
       "  </thead>\n",
       "  <tbody>\n",
       "    <tr>\n",
       "      <th>0</th>\n",
       "      <td>Бананы</td>\n",
       "      <td>139.0</td>\n",
       "    </tr>\n",
       "    <tr>\n",
       "      <th>1</th>\n",
       "      <td>Баранина</td>\n",
       "      <td>474.0</td>\n",
       "    </tr>\n",
       "    <tr>\n",
       "      <th>2</th>\n",
       "      <td>Говядина</td>\n",
       "      <td>495.0</td>\n",
       "    </tr>\n",
       "    <tr>\n",
       "      <th>3</th>\n",
       "      <td>Горох</td>\n",
       "      <td>99.0</td>\n",
       "    </tr>\n",
       "    <tr>\n",
       "      <th>4</th>\n",
       "      <td>Гречка</td>\n",
       "      <td>125.0</td>\n",
       "    </tr>\n",
       "    <tr>\n",
       "      <th>5</th>\n",
       "      <td>Капуста</td>\n",
       "      <td>72.0</td>\n",
       "    </tr>\n",
       "    <tr>\n",
       "      <th>6</th>\n",
       "      <td>Картофель</td>\n",
       "      <td>44.0</td>\n",
       "    </tr>\n",
       "    <tr>\n",
       "      <th>7</th>\n",
       "      <td>Кефир</td>\n",
       "      <td>58.0</td>\n",
       "    </tr>\n",
       "    <tr>\n",
       "      <th>8</th>\n",
       "      <td>Крупа манная</td>\n",
       "      <td>69.0</td>\n",
       "    </tr>\n",
       "    <tr>\n",
       "      <th>9</th>\n",
       "      <td>Курица</td>\n",
       "      <td>328.0</td>\n",
       "    </tr>\n",
       "    <tr>\n",
       "      <th>10</th>\n",
       "      <td>Лепешка</td>\n",
       "      <td>24.0</td>\n",
       "    </tr>\n",
       "    <tr>\n",
       "      <th>11</th>\n",
       "      <td>Лук</td>\n",
       "      <td>40.0</td>\n",
       "    </tr>\n",
       "    <tr>\n",
       "      <th>12</th>\n",
       "      <td>Молоко</td>\n",
       "      <td>58.0</td>\n",
       "    </tr>\n",
       "    <tr>\n",
       "      <th>13</th>\n",
       "      <td>Морковь</td>\n",
       "      <td>53.0</td>\n",
       "    </tr>\n",
       "    <tr>\n",
       "      <th>14</th>\n",
       "      <td>Огурцы</td>\n",
       "      <td>99.0</td>\n",
       "    </tr>\n",
       "    <tr>\n",
       "      <th>15</th>\n",
       "      <td>Помидоры</td>\n",
       "      <td>165.0</td>\n",
       "    </tr>\n",
       "    <tr>\n",
       "      <th>16</th>\n",
       "      <td>Растительное масло</td>\n",
       "      <td>154.0</td>\n",
       "    </tr>\n",
       "    <tr>\n",
       "      <th>17</th>\n",
       "      <td>Рис</td>\n",
       "      <td>65.0</td>\n",
       "    </tr>\n",
       "    <tr>\n",
       "      <th>18</th>\n",
       "      <td>Рыба</td>\n",
       "      <td>579.0</td>\n",
       "    </tr>\n",
       "    <tr>\n",
       "      <th>19</th>\n",
       "      <td>Сахар</td>\n",
       "      <td>78.0</td>\n",
       "    </tr>\n",
       "    <tr>\n",
       "      <th>20</th>\n",
       "      <td>Сливочное масло</td>\n",
       "      <td>101.0</td>\n",
       "    </tr>\n",
       "    <tr>\n",
       "      <th>21</th>\n",
       "      <td>Соль</td>\n",
       "      <td>8.0</td>\n",
       "    </tr>\n",
       "    <tr>\n",
       "      <th>22</th>\n",
       "      <td>Творог</td>\n",
       "      <td>96.0</td>\n",
       "    </tr>\n",
       "    <tr>\n",
       "      <th>23</th>\n",
       "      <td>Тыква</td>\n",
       "      <td>17.0</td>\n",
       "    </tr>\n",
       "    <tr>\n",
       "      <th>24</th>\n",
       "      <td>Хлеб</td>\n",
       "      <td>17.0</td>\n",
       "    </tr>\n",
       "    <tr>\n",
       "      <th>25</th>\n",
       "      <td>Чай</td>\n",
       "      <td>133.0</td>\n",
       "    </tr>\n",
       "    <tr>\n",
       "      <th>26</th>\n",
       "      <td>Чеснок</td>\n",
       "      <td>276.0</td>\n",
       "    </tr>\n",
       "    <tr>\n",
       "      <th>27</th>\n",
       "      <td>Яблоки</td>\n",
       "      <td>92.0</td>\n",
       "    </tr>\n",
       "    <tr>\n",
       "      <th>28</th>\n",
       "      <td>Яйца</td>\n",
       "      <td>105.0</td>\n",
       "    </tr>\n",
       "  </tbody>\n",
       "</table>\n",
       "</div>"
      ],
      "text/plain": [
       "               product  price\n",
       "0               Бананы  139.0\n",
       "1             Баранина  474.0\n",
       "2             Говядина  495.0\n",
       "3                Горох   99.0\n",
       "4               Гречка  125.0\n",
       "5              Капуста   72.0\n",
       "6            Картофель   44.0\n",
       "7                Кефир   58.0\n",
       "8         Крупа манная   69.0\n",
       "9               Курица  328.0\n",
       "10             Лепешка   24.0\n",
       "11                 Лук   40.0\n",
       "12              Молоко   58.0\n",
       "13             Морковь   53.0\n",
       "14              Огурцы   99.0\n",
       "15            Помидоры  165.0\n",
       "16  Растительное масло  154.0\n",
       "17                 Рис   65.0\n",
       "18                Рыба  579.0\n",
       "19               Сахар   78.0\n",
       "20     Сливочное масло  101.0\n",
       "21                Соль    8.0\n",
       "22              Творог   96.0\n",
       "23               Тыква   17.0\n",
       "24                Хлеб   17.0\n",
       "25                 Чай  133.0\n",
       "26              Чеснок  276.0\n",
       "27              Яблоки   92.0\n",
       "28                Яйца  105.0"
      ]
     },
     "execution_count": 59,
     "metadata": {},
     "output_type": "execute_result"
    }
   ],
   "source": [
    "last_day_prices['product'] = ['asd', ]"
   ]
  },
  {
   "cell_type": "code",
   "execution_count": 57,
   "id": "bb631e2f",
   "metadata": {},
   "outputs": [],
   "source": [
    "len(PRODUCTS[1])\n",
    "last_day_prices = last_day_prices.reset_index()\n",
    "last_day_prices['product'] = last_day_prices['product'].str.encode('utf-8')\n",
    "last_day_prices['product'] = last_day_prices['product'].apply(lambda x: x.decode('utf-8', 'ignore'))\n",
    "# .encode('utf-8').decode('utf-8')\n",
    "# print(last_day_prices)"
   ]
  },
  {
   "cell_type": "code",
   "execution_count": 58,
   "id": "76f067ac",
   "metadata": {},
   "outputs": [
    {
     "name": "stdout",
     "output_type": "stream",
     "text": [
      "--  ------------------  ---\n",
      " 0  Бананы              139\n",
      " 1  Баранина            474\n",
      " 2  Говядина            495\n",
      " 3  Горох                99\n",
      " 4  Гречка              125\n",
      " 5  Капуста              72\n",
      " 6  Картофель            44\n",
      " 7  Кефир                58\n",
      " 8  Крупа манная         69\n",
      " 9  Курица              328\n",
      "10  Лепешка              24\n",
      "11  Лук                  40\n",
      "12  Молоко               58\n",
      "13  Морковь              53\n",
      "14  Огурцы               99\n",
      "15  Помидоры            165\n",
      "16  Растительное масло  154\n",
      "17  Рис                  65\n",
      "18  Рыба                579\n",
      "19  Сахар                78\n",
      "20  Сливочное масло     101\n",
      "21  Соль                  8\n",
      "22  Творог               96\n",
      "23  Тыква                17\n",
      "24  Хлеб                 17\n",
      "25  Чай                 133\n",
      "26  Чеснок              276\n",
      "27  Яблоки               92\n",
      "28  Яйца                105\n",
      "--  ------------------  ---\n"
     ]
    }
   ],
   "source": [
    "print(tabulate(last_day_prices))"
   ]
  },
  {
   "cell_type": "code",
   "execution_count": null,
   "id": "65e973d2",
   "metadata": {},
   "outputs": [],
   "source": []
  },
  {
   "cell_type": "code",
   "execution_count": 3,
   "id": "65368710",
   "metadata": {},
   "outputs": [],
   "source": [
    "import pandas as pd\n",
    "import matplotlib.pyplot as plt\n",
    "import numpy as np\n",
    "from tabulate import tabulate\n"
   ]
  },
  {
   "cell_type": "code",
   "execution_count": null,
   "id": "380d5ecf",
   "metadata": {},
   "outputs": [],
   "source": []
  },
  {
   "cell_type": "code",
   "execution_count": null,
   "id": "71284336",
   "metadata": {},
   "outputs": [],
   "source": []
  },
  {
   "cell_type": "code",
   "execution_count": 6,
   "id": "91f54013",
   "metadata": {},
   "outputs": [],
   "source": [
    "gc = pygsheets.authorize(service_file=key_filename)\n",
    "sh = gc.open('prices-bishkek')\n",
    "data = sh.worksheets()\n"
   ]
  },
  {
   "cell_type": "code",
   "execution_count": 15,
   "id": "7af2b637",
   "metadata": {},
   "outputs": [],
   "source": [
    "working_data = [sheet for sheet in data if len(sheet.title.strip().replace('.', '')) == 8]"
   ]
  },
  {
   "cell_type": "code",
   "execution_count": 30,
   "id": "e5668026",
   "metadata": {},
   "outputs": [],
   "source": [
    "prices_df = pd.concat([sheet.get_as_df() for sheet in working_data], ignore_index=True)\n",
    "prices_df['date'] = pd.to_datetime(prices_df['date'], format='%d-%m-%Y')\n",
    "products = prices_df['product'].unique()\n",
    "product_choice = {i: col for i, col in enumerate(products)} "
   ]
  },
  {
   "cell_type": "code",
   "execution_count": 86,
   "id": "f629d479",
   "metadata": {},
   "outputs": [
    {
     "data": {
      "text/plain": [
       "array(['Бананы', 'Баранина', 'Говядина', 'Горох', 'Гречка', 'Капуста',\n",
       "       'Картофель', 'Кефир', 'Крупа манная', 'Курица', 'Лепешка', 'Лук',\n",
       "       'Молоко', 'Морковь', 'Огурцы', 'Помидоры', 'Растительное масло',\n",
       "       'Рис', 'Рыба', 'Сахар', 'Сливочное масло', 'Соль', 'Творог',\n",
       "       'Тыква', 'Хлеб', 'Чай', 'Чеснок', 'Яблоки', 'Яйца'], dtype=object)"
      ]
     },
     "execution_count": 86,
     "metadata": {},
     "output_type": "execute_result"
    }
   ],
   "source": [
    "products.sort()\n",
    "products"
   ]
  },
  {
   "cell_type": "code",
   "execution_count": 62,
   "id": "4c3735fc",
   "metadata": {},
   "outputs": [],
   "source": [
    "import time\n",
    "time.sleep(2)"
   ]
  },
  {
   "cell_type": "code",
   "execution_count": 51,
   "id": "4ef989f8",
   "metadata": {},
   "outputs": [
    {
     "data": {
      "text/plain": [
       "array(['2022-04-14T00:00:00.000000000', '2022-04-18T00:00:00.000000000',\n",
       "       '2022-04-24T00:00:00.000000000', '2022-05-01T00:00:00.000000000'],\n",
       "      dtype='datetime64[ns]')"
      ]
     },
     "execution_count": 51,
     "metadata": {},
     "output_type": "execute_result"
    }
   ],
   "source": [
    "len(prices_df['date'].unique())"
   ]
  },
  {
   "cell_type": "code",
   "execution_count": 59,
   "id": "7ed269a7",
   "metadata": {},
   "outputs": [
    {
     "data": {
      "text/html": [
       "<div>\n",
       "<style scoped>\n",
       "    .dataframe tbody tr th:only-of-type {\n",
       "        vertical-align: middle;\n",
       "    }\n",
       "\n",
       "    .dataframe tbody tr th {\n",
       "        vertical-align: top;\n",
       "    }\n",
       "\n",
       "    .dataframe thead th {\n",
       "        text-align: right;\n",
       "    }\n",
       "</style>\n",
       "<table border=\"1\" class=\"dataframe\">\n",
       "  <thead>\n",
       "    <tr style=\"text-align: right;\">\n",
       "      <th></th>\n",
       "      <th>product</th>\n",
       "      <th>difference_last_week</th>\n",
       "      <th>price</th>\n",
       "    </tr>\n",
       "    <tr>\n",
       "      <th>date</th>\n",
       "      <th></th>\n",
       "      <th></th>\n",
       "      <th></th>\n",
       "    </tr>\n",
       "  </thead>\n",
       "  <tbody>\n",
       "    <tr>\n",
       "      <th>2022-05-01</th>\n",
       "      <td>Огурцы</td>\n",
       "      <td>-56.0</td>\n",
       "      <td>99.0</td>\n",
       "    </tr>\n",
       "    <tr>\n",
       "      <th>2022-05-01</th>\n",
       "      <td>Помидоры</td>\n",
       "      <td>-36.0</td>\n",
       "      <td>165.0</td>\n",
       "    </tr>\n",
       "    <tr>\n",
       "      <th>2022-05-01</th>\n",
       "      <td>Растительное масло</td>\n",
       "      <td>-18.0</td>\n",
       "      <td>154.0</td>\n",
       "    </tr>\n",
       "    <tr>\n",
       "      <th>2022-05-01</th>\n",
       "      <td>Творог</td>\n",
       "      <td>-12.0</td>\n",
       "      <td>96.0</td>\n",
       "    </tr>\n",
       "    <tr>\n",
       "      <th>2022-05-01</th>\n",
       "      <td>Тыква</td>\n",
       "      <td>-10.0</td>\n",
       "      <td>17.0</td>\n",
       "    </tr>\n",
       "    <tr>\n",
       "      <th>2022-05-01</th>\n",
       "      <td>Бананы</td>\n",
       "      <td>-6.0</td>\n",
       "      <td>139.0</td>\n",
       "    </tr>\n",
       "    <tr>\n",
       "      <th>2022-05-01</th>\n",
       "      <td>Лук</td>\n",
       "      <td>-1.0</td>\n",
       "      <td>40.0</td>\n",
       "    </tr>\n",
       "    <tr>\n",
       "      <th>2022-05-01</th>\n",
       "      <td>Капуста</td>\n",
       "      <td>9.0</td>\n",
       "      <td>72.0</td>\n",
       "    </tr>\n",
       "  </tbody>\n",
       "</table>\n",
       "</div>"
      ],
      "text/plain": [
       "                       product  difference_last_week  price\n",
       "date                                                       \n",
       "2022-05-01              Огурцы                 -56.0   99.0\n",
       "2022-05-01            Помидоры                 -36.0  165.0\n",
       "2022-05-01  Растительное масло                 -18.0  154.0\n",
       "2022-05-01              Творог                 -12.0   96.0\n",
       "2022-05-01               Тыква                 -10.0   17.0\n",
       "2022-05-01              Бананы                  -6.0  139.0\n",
       "2022-05-01                 Лук                  -1.0   40.0\n",
       "2022-05-01             Капуста                   9.0   72.0"
      ]
     },
     "execution_count": 59,
     "metadata": {},
     "output_type": "execute_result"
    }
   ],
   "source": [
    "n_weeks = len(prices_df['date'].unique())\n",
    "indexed_prices_df = prices_df.set_index(['date', 'product'])\n",
    "indexed_prices_df['price_last_week'] = indexed_prices_df.groupby(level=\"product\").shift(1)['price']\n",
    "indexed_prices_df['price_first_week'] = indexed_prices_df.groupby(level=\"product\").shift(n_weeks-1)['price']\n",
    "indexed_prices_df['difference_last_week'] = indexed_prices_df['price'] - indexed_prices_df['price_last_week']\n",
    "indexed_prices_df['difference_first_week'] = indexed_prices_df['price'] - indexed_prices_df['price_first_week']\n",
    "indexed_prices_df = indexed_prices_df.reset_index().set_index('date')\n",
    "last_week = indexed_prices_df.last('1D')[lambda df: df['difference_last_week'] != 0].sort_values('difference_last_week')\n",
    "first_week = indexed_prices_df.last('1D')[lambda df: df['difference_first_week'] != 0].sort_values('difference_first_week')\n",
    "last_week[['product', 'difference_last_week', 'price']]"
   ]
  },
  {
   "cell_type": "code",
   "execution_count": 74,
   "id": "ccda88cd",
   "metadata": {},
   "outputs": [
    {
     "data": {
      "text/plain": [
       "0    2022-05-01\n",
       "1    2022-05-01\n",
       "2    2022-05-01\n",
       "3    2022-05-01\n",
       "4    2022-05-01\n",
       "5    2022-05-01\n",
       "6    2022-05-01\n",
       "7    2022-05-01\n",
       "Name: date, dtype: object"
      ]
     },
     "execution_count": 74,
     "metadata": {},
     "output_type": "execute_result"
    }
   ],
   "source": [
    "last_week[['product', 'difference_last_week', 'price']].reset_index()['date'].astype(str)\n",
    "# tabulate(last_week[['product', 'difference_last_week', 'price']], headers='keys', tablefmt='psql')"
   ]
  },
  {
   "cell_type": "code",
   "execution_count": 27,
   "id": "44f37bfd",
   "metadata": {},
   "outputs": [
    {
     "name": "stderr",
     "output_type": "stream",
     "text": [
      "/Users/f00l/Documents/telegram_bot/telegram_env/lib/python3.7/site-packages/ipykernel_launcher.py:2: SettingWithCopyWarning: \n",
      "A value is trying to be set on a copy of a slice from a DataFrame.\n",
      "Try using .loc[row_indexer,col_indexer] = value instead\n",
      "\n",
      "See the caveats in the documentation: https://pandas.pydata.org/pandas-docs/stable/user_guide/indexing.html#returning-a-view-versus-a-copy\n",
      "  \n",
      "/Users/f00l/Documents/telegram_bot/telegram_env/lib/python3.7/site-packages/ipykernel_launcher.py:3: SettingWithCopyWarning: \n",
      "A value is trying to be set on a copy of a slice from a DataFrame.\n",
      "Try using .loc[row_indexer,col_indexer] = value instead\n",
      "\n",
      "See the caveats in the documentation: https://pandas.pydata.org/pandas-docs/stable/user_guide/indexing.html#returning-a-view-versus-a-copy\n",
      "  This is separate from the ipykernel package so we can avoid doing imports until\n"
     ]
    },
    {
     "ename": "NameError",
     "evalue": "name 'product_name' is not defined",
     "output_type": "error",
     "traceback": [
      "\u001b[0;31m---------------------------------------------------------------------------\u001b[0m",
      "\u001b[0;31mNameError\u001b[0m                                 Traceback (most recent call last)",
      "\u001b[0;32m/var/folders/0p/s5_wd55j435dtwyt0wmv274w0000gn/T/ipykernel_4009/1784297759.py\u001b[0m in \u001b[0;36m<module>\u001b[0;34m\u001b[0m\n\u001b[1;32m      5\u001b[0m \u001b[0mover_time\u001b[0m \u001b[0;34m=\u001b[0m \u001b[0mtmp_df\u001b[0m\u001b[0;34m.\u001b[0m\u001b[0msort_values\u001b[0m\u001b[0;34m(\u001b[0m\u001b[0;34m'date'\u001b[0m\u001b[0;34m)\u001b[0m\u001b[0;34m.\u001b[0m\u001b[0mset_index\u001b[0m\u001b[0;34m(\u001b[0m\u001b[0;34m'date'\u001b[0m\u001b[0;34m)\u001b[0m\u001b[0;31m#.resample('1W')['price'].mean()\u001b[0m\u001b[0;34m\u001b[0m\u001b[0;34m\u001b[0m\u001b[0m\n\u001b[1;32m      6\u001b[0m \u001b[0mplt\u001b[0m\u001b[0;34m.\u001b[0m\u001b[0mbar\u001b[0m\u001b[0;34m(\u001b[0m\u001b[0mover_time\u001b[0m\u001b[0;34m.\u001b[0m\u001b[0mindex\u001b[0m\u001b[0;34m,\u001b[0m \u001b[0mover_time\u001b[0m\u001b[0;34m[\u001b[0m\u001b[0;34m'price'\u001b[0m\u001b[0;34m]\u001b[0m\u001b[0;34m)\u001b[0m \u001b[0;31m# over_time.plot()\u001b[0m\u001b[0;34m\u001b[0m\u001b[0;34m\u001b[0m\u001b[0m\n\u001b[0;32m----> 7\u001b[0;31m \u001b[0mplt\u001b[0m\u001b[0;34m.\u001b[0m\u001b[0mtitle\u001b[0m\u001b[0;34m(\u001b[0m\u001b[0;34mf'Цена на {product_name}'\u001b[0m\u001b[0;34m)\u001b[0m\u001b[0;34m\u001b[0m\u001b[0;34m\u001b[0m\u001b[0m\n\u001b[0m\u001b[1;32m      8\u001b[0m \u001b[0mplt\u001b[0m\u001b[0;34m.\u001b[0m\u001b[0msavefig\u001b[0m\u001b[0;34m(\u001b[0m\u001b[0;34mf'{i}.png'\u001b[0m\u001b[0;34m)\u001b[0m\u001b[0;34m\u001b[0m\u001b[0;34m\u001b[0m\u001b[0m\n\u001b[1;32m      9\u001b[0m \u001b[0mplt\u001b[0m\u001b[0;34m.\u001b[0m\u001b[0mclose\u001b[0m\u001b[0;34m(\u001b[0m\u001b[0;34m)\u001b[0m\u001b[0;34m\u001b[0m\u001b[0;34m\u001b[0m\u001b[0m\n",
      "\u001b[0;31mNameError\u001b[0m: name 'product_name' is not defined"
     ]
    }
   ],
   "source": [
    "tmp_df = cleaned_data[lambda df: df['product'] == 'Молоко']\n",
    "tmp_df['date'] = pd.to_datetime(tmp_df['date'], format='%d-%m-%Y')\n",
    "tmp_df['date'] = tmp_df['date'].dt.strftime('%m-%d')\n",
    "\n",
    "over_time = tmp_df.sort_values('date').set_index('date')#.resample('1W')['price'].mean()\n",
    "plt.bar(over_time.index, over_time['price']) # over_time.plot()\n",
    "plt.title(f'Цена на {product_name}')\n",
    "plt.savefig(f'{i}.png')\n",
    "plt.close()\n"
   ]
  },
  {
   "cell_type": "code",
   "execution_count": 75,
   "id": "64f33e40",
   "metadata": {},
   "outputs": [
    {
     "data": {
      "text/html": [
       "<div>\n",
       "<style scoped>\n",
       "    .dataframe tbody tr th:only-of-type {\n",
       "        vertical-align: middle;\n",
       "    }\n",
       "\n",
       "    .dataframe tbody tr th {\n",
       "        vertical-align: top;\n",
       "    }\n",
       "\n",
       "    .dataframe thead th {\n",
       "        text-align: right;\n",
       "    }\n",
       "</style>\n",
       "<table border=\"1\" class=\"dataframe\">\n",
       "  <thead>\n",
       "    <tr style=\"text-align: right;\">\n",
       "      <th></th>\n",
       "      <th>product</th>\n",
       "      <th>price</th>\n",
       "    </tr>\n",
       "    <tr>\n",
       "      <th>date</th>\n",
       "      <th></th>\n",
       "      <th></th>\n",
       "    </tr>\n",
       "  </thead>\n",
       "  <tbody>\n",
       "    <tr>\n",
       "      <th>04-14</th>\n",
       "      <td>Молоко</td>\n",
       "      <td>58.0</td>\n",
       "    </tr>\n",
       "    <tr>\n",
       "      <th>04-18</th>\n",
       "      <td>Молоко</td>\n",
       "      <td>58.0</td>\n",
       "    </tr>\n",
       "    <tr>\n",
       "      <th>04-24</th>\n",
       "      <td>Молоко</td>\n",
       "      <td>58.0</td>\n",
       "    </tr>\n",
       "    <tr>\n",
       "      <th>05-01</th>\n",
       "      <td>Молоко</td>\n",
       "      <td>58.0</td>\n",
       "    </tr>\n",
       "  </tbody>\n",
       "</table>\n",
       "</div>"
      ],
      "text/plain": [
       "      product  price\n",
       "date                \n",
       "04-14  Молоко   58.0\n",
       "04-18  Молоко   58.0\n",
       "04-24  Молоко   58.0\n",
       "05-01  Молоко   58.0"
      ]
     },
     "execution_count": 75,
     "metadata": {},
     "output_type": "execute_result"
    }
   ],
   "source": [
    "over_time[['product', 'price']]"
   ]
  },
  {
   "cell_type": "code",
   "execution_count": 83,
   "id": "3c25b7b3",
   "metadata": {},
   "outputs": [
    {
     "data": {
      "text/html": [
       "<div>\n",
       "<style scoped>\n",
       "    .dataframe tbody tr th:only-of-type {\n",
       "        vertical-align: middle;\n",
       "    }\n",
       "\n",
       "    .dataframe tbody tr th {\n",
       "        vertical-align: top;\n",
       "    }\n",
       "\n",
       "    .dataframe thead th {\n",
       "        text-align: right;\n",
       "    }\n",
       "</style>\n",
       "<table border=\"1\" class=\"dataframe\">\n",
       "  <thead>\n",
       "    <tr style=\"text-align: right;\">\n",
       "      <th></th>\n",
       "      <th>difference_last_week</th>\n",
       "      <th>price</th>\n",
       "    </tr>\n",
       "    <tr>\n",
       "      <th>product</th>\n",
       "      <th></th>\n",
       "      <th></th>\n",
       "    </tr>\n",
       "  </thead>\n",
       "  <tbody>\n",
       "    <tr>\n",
       "      <th>Огурцы</th>\n",
       "      <td>-56.0</td>\n",
       "      <td>99.0</td>\n",
       "    </tr>\n",
       "    <tr>\n",
       "      <th>Помидоры</th>\n",
       "      <td>-36.0</td>\n",
       "      <td>165.0</td>\n",
       "    </tr>\n",
       "    <tr>\n",
       "      <th>Растительное масло</th>\n",
       "      <td>-18.0</td>\n",
       "      <td>154.0</td>\n",
       "    </tr>\n",
       "    <tr>\n",
       "      <th>Творог</th>\n",
       "      <td>-12.0</td>\n",
       "      <td>96.0</td>\n",
       "    </tr>\n",
       "    <tr>\n",
       "      <th>Тыква</th>\n",
       "      <td>-10.0</td>\n",
       "      <td>17.0</td>\n",
       "    </tr>\n",
       "    <tr>\n",
       "      <th>Бананы</th>\n",
       "      <td>-6.0</td>\n",
       "      <td>139.0</td>\n",
       "    </tr>\n",
       "    <tr>\n",
       "      <th>Лук</th>\n",
       "      <td>-1.0</td>\n",
       "      <td>40.0</td>\n",
       "    </tr>\n",
       "    <tr>\n",
       "      <th>Капуста</th>\n",
       "      <td>9.0</td>\n",
       "      <td>72.0</td>\n",
       "    </tr>\n",
       "  </tbody>\n",
       "</table>\n",
       "</div>"
      ],
      "text/plain": [
       "                    difference_last_week  price\n",
       "product                                        \n",
       "Огурцы                             -56.0   99.0\n",
       "Помидоры                           -36.0  165.0\n",
       "Растительное масло                 -18.0  154.0\n",
       "Творог                             -12.0   96.0\n",
       "Тыква                              -10.0   17.0\n",
       "Бананы                              -6.0  139.0\n",
       "Лук                                 -1.0   40.0\n",
       "Капуста                              9.0   72.0"
      ]
     },
     "execution_count": 83,
     "metadata": {},
     "output_type": "execute_result"
    }
   ],
   "source": [
    "last_week.reset_index()[['product', 'difference_last_week', 'price']].set_index('product')"
   ]
  },
  {
   "cell_type": "code",
   "execution_count": null,
   "id": "4bb3c2af",
   "metadata": {},
   "outputs": [],
   "source": []
  }
 ],
 "metadata": {
  "kernelspec": {
   "display_name": "Python 3 (ipykernel)",
   "language": "python",
   "name": "python3"
  },
  "language_info": {
   "codemirror_mode": {
    "name": "ipython",
    "version": 3
   },
   "file_extension": ".py",
   "mimetype": "text/x-python",
   "name": "python",
   "nbconvert_exporter": "python",
   "pygments_lexer": "ipython3",
   "version": "3.7.7"
  }
 },
 "nbformat": 4,
 "nbformat_minor": 5
}
